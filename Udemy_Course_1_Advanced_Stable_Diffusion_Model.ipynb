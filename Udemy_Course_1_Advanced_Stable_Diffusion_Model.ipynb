{
  "cells": [
    {
      "cell_type": "markdown",
      "metadata": {
        "id": "view-in-github",
        "colab_type": "text"
      },
      "source": [
        "<a href=\"https://colab.research.google.com/github/VishalPrem1994/AiGenPlayground/blob/main/Udemy_Course_1_Advanced_Stable_Diffusion_Model.ipynb\" target=\"_parent\"><img src=\"https://colab.research.google.com/assets/colab-badge.svg\" alt=\"Open In Colab\"/></a>"
      ]
    },
    {
      "cell_type": "code",
      "source": [
        "%pip install -q accelerate transformers ftfy bitsandbytes==0.35.0 gradio natsort safetensors xformers diffusers\n",
        "\n",
        "#@title Login to HuggingFace 🤗\n",
        "\n",
        "#@markdown You need to accept the model license before downloading or using the Stable Diffusion weights. Please, visit the [model card](https://huggingface.co/runwayml/stable-diffusion-v1-5), read the license and tick the checkbox if you agree. You have to be a registered user in 🤗 Hugging Face Hub, and you'll also need to use an access token for the code to work.\n",
        "# https://huggingface.co/settings/tokens\n",
        "!mkdir -p ~/.huggingface\n",
        "HUGGINGFACE_TOKEN = \"\" #@param {type:\"string\"}\n",
        "!echo -n \"{HUGGINGFACE_TOKEN}\" > ~/.huggingface/token\n",
        "\n",
        "import torch\n",
        "from torch import autocast\n",
        "from diffusers import StableDiffusionPipeline, DDIMScheduler\n",
        "from IPython.display import display\n",
        "torch.cuda.empty_cache()\n",
        "g_cuda = torch.Generator(device='cuda')\n",
        "model_id = \"prompthero/openjourney\" \n",
        "device = \"cuda\"\n",
        "seed = 70034 \n",
        "g_cuda.manual_seed(seed)\n",
        "\n",
        "pipe = StableDiffusionPipeline.from_pretrained(model_id,torch_dtype=torch.float16)\n",
        "pipe = pipe.to(device)"
      ],
      "metadata": {
        "id": "Z_gUreJiAeIx",
        "cellView": "form"
      },
      "execution_count": null,
      "outputs": []
    },
    {
      "cell_type": "code",
      "execution_count": null,
      "metadata": {
        "id": "_RIY0_yUcI4h",
        "cellView": "form"
      },
      "outputs": [],
      "source": [
        "#@markdown Giving Descriptions\n",
        "prompt = \"portrait of a coal miner \"#@param {type:\"string\"}\n",
        "negative_prompt = \"frame, border, ugly, fat, overweight, (long neck), bad quality, error, blurry, blurred, high contrast, ((dyed hair)), two heads, multiple heads, two faces, multiple faces, multiple people, group of people\" #@param {type:\"string\"}\n",
        "#@markdown Image Details\n",
        "num_samples = 1 \n",
        "height = 768 #@param {type:\"number\"}\n",
        "width = 512 #@param {type:\"number\"}\n",
        "#@markdown Additional Settings\n",
        "guidance_scale = 5.5 #@param {type:\"number\"}\n",
        "num_inference_steps = 70 #@param {type:\"number\"}\n",
        "\n",
        "\n",
        "\n",
        "images = pipe(\n",
        "    prompt,\n",
        "    height=height,\n",
        "    width=width,\n",
        "    negative_prompt=negative_prompt,\n",
        "    num_images_per_prompt=num_samples,\n",
        "    num_inference_steps=num_inference_steps,\n",
        "    guidance_scale=guidance_scale,\n",
        "    ).images\n",
        "\n",
        "for img in images:\n",
        "    display(img)   "
      ]
    }
  ],
  "metadata": {
    "accelerator": "GPU",
    "colab": {
      "provenance": [],
      "include_colab_link": true
    },
    "gpuClass": "standard",
    "kernelspec": {
      "display_name": "Python 3",
      "name": "python3"
    },
    "language_info": {
      "name": "python"
    }
  },
  "nbformat": 4,
  "nbformat_minor": 0
}